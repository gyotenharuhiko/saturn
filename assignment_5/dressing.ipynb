{
 "cells": [
  {
   "cell_type": "code",
   "execution_count": null,
   "metadata": {},
   "outputs": [
    {
     "name": "stdout",
     "output_type": "stream",
     "text": [
      " * Serving Flask app \"__main__\" (lazy loading)\n",
      " * Environment: production\n",
      "\u001b[31m   WARNING: This is a development server. Do not use it in a production deployment.\u001b[0m\n",
      "\u001b[2m   Use a production WSGI server instead.\u001b[0m\n",
      " * Debug mode: off\n"
     ]
    },
    {
     "name": "stderr",
     "output_type": "stream",
     "text": [
      " * Running on http://localhost:9004/ (Press CTRL+C to quit)\n"
     ]
    }
   ],
   "source": [
    "################################################################################################################\n",
    "\n",
    "# EXTERNAL MODULES TO BE USED\n",
    "\n",
    "################################################################################################################\n",
    "\n",
    "from flask import Flask, render_template, redirect, url_for\n",
    "import pandas as pd\n",
    "\n",
    "app = Flask(__name__)\n",
    "\n",
    "################################################################################################################\n",
    "\n",
    "# WEB ROUTES FOR CONTROLLING ACCESS TO TEMPLATE VIEWS\n",
    "\n",
    "################################################################################################################\n",
    "\n",
    "@app.route(\"/\")\n",
    "def index():\n",
    "    return render_template('index.html')\n",
    "\n",
    "@app.route(\"/preface\")\n",
    "def preface():\n",
    "    return render_template('preface.html')\n",
    "\n",
    "@app.route(\"/festivals\")\n",
    "def festivals():\n",
    "    df = pd.read_csv(\"Damai.csv\")\n",
    "    festivals = df.to_dict(orient='records')\n",
    "    return render_template('festivals.html', entries = festivals)\n",
    "\n",
    "@app.route(\"/dressing\")\n",
    "def dressing():\n",
    "    return render_template('dressing.html')\n",
    "\n",
    "@app.route(\"/tips\")\n",
    "def tips():\n",
    "    return render_template('tips.html')\n",
    "\n",
    "@app.route(\"/contact\")\n",
    "def contact():\n",
    "    return render_template('contact.html')\n",
    "\n",
    "################################################################################################################\n",
    "\n",
    "# ERROR HANDLERS\n",
    "\n",
    "################################################################################################################\n",
    "\n",
    "@app.errorhandler(404)\n",
    "def page_not_found(e):\n",
    "    return render_template('404.html'), 404\n",
    "\n",
    "################################################################################################################\n",
    "\n",
    "# APPLICATION TEST RUN AT PORT 9002\n",
    "\n",
    "################################################################################################################\n",
    "\n",
    "if __name__ == '__main__':\n",
    "    app.run('localhost', 9004)"
   ]
  },
  {
   "cell_type": "code",
   "execution_count": null,
   "metadata": {},
   "outputs": [],
   "source": []
  }
 ],
 "metadata": {
  "kernelspec": {
   "display_name": "Python 3",
   "language": "python",
   "name": "python3"
  },
  "language_info": {
   "codemirror_mode": {
    "name": "ipython",
    "version": 3
   },
   "file_extension": ".py",
   "mimetype": "text/x-python",
   "name": "python",
   "nbconvert_exporter": "python",
   "pygments_lexer": "ipython3",
   "version": "3.8.8"
  }
 },
 "nbformat": 4,
 "nbformat_minor": 2
}
